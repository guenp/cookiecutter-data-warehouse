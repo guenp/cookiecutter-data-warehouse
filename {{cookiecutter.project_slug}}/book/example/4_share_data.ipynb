{
 "cells": [
  {
   "cell_type": "markdown",
   "id": "eea6aa87",
   "metadata": {},
   "source": [
    "# Create a MotherDuck share"
   ]
  },
  {
   "cell_type": "code",
   "execution_count": 1,
   "id": "4400e0c4-a80e-4856-b541-8b71db118a9f",
   "metadata": {
    "execution": {
     "iopub.execute_input": "2024-07-12T08:52:31.845698Z",
     "iopub.status.busy": "2024-07-12T08:52:31.845437Z",
     "iopub.status.idle": "2024-07-12T08:53:11.151204Z",
     "shell.execute_reply": "2024-07-12T08:53:11.150513Z",
     "shell.execute_reply.started": "2024-07-12T08:52:31.845681Z"
    }
   },
   "outputs": [],
   "source": [
    "import duckdb\n",
    "con = duckdb.connect(\"md:\")"
   ]
  },
  {
   "cell_type": "code",
   "execution_count": 2,
   "id": "a3ad8568-1ca4-4c68-ae51-9e8eabd4b07d",
   "metadata": {
    "execution": {
     "iopub.execute_input": "2024-07-12T08:53:11.152400Z",
     "iopub.status.busy": "2024-07-12T08:53:11.152089Z",
     "iopub.status.idle": "2024-07-12T08:53:55.285702Z",
     "shell.execute_reply": "2024-07-12T08:53:55.285415Z",
     "shell.execute_reply.started": "2024-07-12T08:53:11.152379Z"
    }
   },
   "outputs": [
    {
     "data": {
      "application/vnd.jupyter.widget-view+json": {
       "model_id": "29af9f820350445cb8dbf1e1f5b20079",
       "version_major": 2,
       "version_minor": 0
      },
      "text/plain": [
       "FloatProgress(value=0.0, layout=Layout(width='auto'), style=ProgressStyle(bar_color='black'))"
      ]
     },
     "metadata": {},
     "output_type": "display_data"
    }
   ],
   "source": [
    "con.sql(\"DROP DATABASE IF EXISTS my_data CASCADE\")\n",
    "con.sql(\"CREATE DATABASE IF NOT EXISTS my_data FROM 'my-data.duckdb'\")"
   ]
  },
  {
   "cell_type": "code",
   "execution_count": 3,
   "id": "aadc2eb6-bee3-433d-aa94-2978007e4e0b",
   "metadata": {
    "execution": {
     "iopub.execute_input": "2024-07-12T08:53:55.286296Z",
     "iopub.status.busy": "2024-07-12T08:53:55.286224Z",
     "iopub.status.idle": "2024-07-12T08:53:55.804493Z",
     "shell.execute_reply": "2024-07-12T08:53:55.804297Z",
     "shell.execute_reply.started": "2024-07-12T08:53:55.286287Z"
    }
   },
   "outputs": [
    {
     "data": {
      "text/plain": [
       "'md:_share/my_data/ea5df2f0-1e4b-405b-b2f4-452d4da62aa3'"
      ]
     },
     "execution_count": 3,
     "metadata": {},
     "output_type": "execute_result"
    }
   ],
   "source": [
    "share = con.sql(\"CREATE SHARE my_share FROM my_data (ACCESS UNRESTRICTED)\").df()\n",
    "share.share_url.iloc[0]"
   ]
  },
  {
   "cell_type": "code",
   "execution_count": null,
   "id": "af2175d5-bb9f-4f3d-88fb-0689da5a2509",
   "metadata": {},
   "outputs": [],
   "source": []
  }
 ],
 "metadata": {
  "kernelspec": {
   "display_name": "Python 3 (ipykernel)",
   "language": "python",
   "name": "python3"
  },
  "language_info": {
   "codemirror_mode": {
    "name": "ipython",
    "version": 3
   },
   "file_extension": ".py",
   "mimetype": "text/x-python",
   "name": "python",
   "nbconvert_exporter": "python",
   "pygments_lexer": "ipython3",
   "version": "3.12.4"
  }
 },
 "nbformat": 4,
 "nbformat_minor": 5
}
