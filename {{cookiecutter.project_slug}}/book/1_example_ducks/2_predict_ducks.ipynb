{
 "cells": [
  {
   "cell_type": "markdown",
   "metadata": {
    "id": "XHTCGdX0y9wn"
   },
   "source": [
    "# Duck iris prediction"
   ]
  },
  {
   "cell_type": "code",
   "execution_count": 2,
   "metadata": {
    "execution": {
     "iopub.execute_input": "2024-07-11T08:24:38.771852Z",
     "iopub.status.busy": "2024-07-11T08:24:38.771526Z",
     "iopub.status.idle": "2024-07-11T08:24:38.947745Z",
     "shell.execute_reply": "2024-07-11T08:24:38.947406Z",
     "shell.execute_reply.started": "2024-07-11T08:24:38.771798Z"
    },
    "id": "lDaNDUUky9wo"
   },
   "outputs": [],
   "source": [
    "%load_ext magic_duckdb"
   ]
  },
  {
   "cell_type": "code",
   "execution_count": 3,
   "metadata": {
    "execution": {
     "iopub.execute_input": "2024-07-11T08:24:38.948570Z",
     "iopub.status.busy": "2024-07-11T08:24:38.948402Z",
     "iopub.status.idle": "2024-07-11T08:24:38.953321Z",
     "shell.execute_reply": "2024-07-11T08:24:38.953103Z",
     "shell.execute_reply.started": "2024-07-11T08:24:38.948559Z"
    },
    "id": "6lchTrSmy9wo"
   },
   "outputs": [],
   "source": [
    "import duckdb\n",
    "\n",
    "# Open a connection to your DuckDB database\n",
    "con = duckdb.connect(\"my-data.duckdb\")"
   ]
  },
  {
   "cell_type": "code",
   "execution_count": 4,
   "metadata": {
    "colab": {
     "base_uri": "https://localhost:8080/",
     "height": 53
    },
    "execution": {
     "iopub.execute_input": "2024-07-11T08:24:39.487802Z",
     "iopub.status.busy": "2024-07-11T08:24:39.487284Z",
     "iopub.status.idle": "2024-07-11T08:24:39.535897Z",
     "shell.execute_reply": "2024-07-11T08:24:39.535589Z",
     "shell.execute_reply.started": "2024-07-11T08:24:39.487767Z"
    },
    "id": "fr7nIyety9wo",
    "outputId": "7699dca1-40e9-4ecd-b082-7c2afab93a28"
   },
   "outputs": [
    {
     "data": {
      "text/html": [
       "<div>\n",
       "<style scoped>\n",
       "    .dataframe tbody tr th:only-of-type {\n",
       "        vertical-align: middle;\n",
       "    }\n",
       "\n",
       "    .dataframe tbody tr th {\n",
       "        vertical-align: top;\n",
       "    }\n",
       "\n",
       "    .dataframe thead th {\n",
       "        text-align: right;\n",
       "    }\n",
       "</style>\n",
       "<table border=\"1\" class=\"dataframe\">\n",
       "  <thead>\n",
       "    <tr style=\"text-align: right;\">\n",
       "      <th></th>\n",
       "      <th>Count</th>\n",
       "    </tr>\n",
       "  </thead>\n",
       "  <tbody>\n",
       "  </tbody>\n",
       "</table>\n",
       "</div>"
      ],
      "text/plain": [
       "Empty DataFrame\n",
       "Columns: [Count]\n",
       "Index: []"
      ]
     },
     "execution_count": 4,
     "metadata": {},
     "output_type": "execute_result"
    }
   ],
   "source": [
    "%%dql -co con\n",
    "CREATE TABLE IF NOT EXISTS birds AS SELECT * FROM read_csv('../../data/birds.csv');\n",
    "CREATE TABLE IF NOT EXISTS ducks AS SELECT * FROM read_csv('../../data/ducks.csv');"
   ]
  },
  {
   "cell_type": "code",
   "execution_count": 5,
   "metadata": {
    "colab": {
     "base_uri": "https://localhost:8080/",
     "height": 81
    },
    "execution": {
     "iopub.execute_input": "2024-07-11T08:24:40.129029Z",
     "iopub.status.busy": "2024-07-11T08:24:40.128395Z",
     "iopub.status.idle": "2024-07-11T08:24:40.149351Z",
     "shell.execute_reply": "2024-07-11T08:24:40.149061Z",
     "shell.execute_reply.started": "2024-07-11T08:24:40.128986Z"
    },
    "id": "JgMdmDlhy9wp",
    "outputId": "073d74be-df33-4b74-b6df-18ce7749b68b"
   },
   "outputs": [
    {
     "data": {
      "text/html": [
       "<div>\n",
       "<style scoped>\n",
       "    .dataframe tbody tr th:only-of-type {\n",
       "        vertical-align: middle;\n",
       "    }\n",
       "\n",
       "    .dataframe tbody tr th {\n",
       "        vertical-align: top;\n",
       "    }\n",
       "\n",
       "    .dataframe thead th {\n",
       "        text-align: right;\n",
       "    }\n",
       "</style>\n",
       "<table border=\"1\" class=\"dataframe\">\n",
       "  <thead>\n",
       "    <tr style=\"text-align: right;\">\n",
       "      <th></th>\n",
       "      <th>Count</th>\n",
       "    </tr>\n",
       "  </thead>\n",
       "  <tbody>\n",
       "    <tr>\n",
       "      <th>0</th>\n",
       "      <td>50</td>\n",
       "    </tr>\n",
       "  </tbody>\n",
       "</table>\n",
       "</div>"
      ],
      "text/plain": [
       "   Count\n",
       "0     50"
      ]
     },
     "execution_count": 5,
     "metadata": {},
     "output_type": "execute_result"
    }
   ],
   "source": [
    "%%dql -co con\n",
    "-- create raw training data\n",
    "CREATE OR REPLACE TABLE prepared_data AS\n",
    "SELECT\n",
    "    Species_Common_Name as species,\n",
    "    Beak_Width AS beak_width,\n",
    "    Beak_Length_Culmen AS beak_length,\n",
    "    Wing_Length AS wing_length,\n",
    "    Tail_Length AS tail_length\n",
    "FROM birds\n",
    "INNER JOIN ducks ON name = Species_Common_Name\n",
    "WHERE beak_width is not null and beak_length is not null and wing_length is not null and tail_length is not null\n",
    "and species like 'Harlequin%' or species like 'Egyptian%' or species like 'Pink%' or species like 'King%' or species like 'Muscovy%'\n",
    "or species like 'Fueg%' or species like 'Smew%' or species like 'Laysan%';\n",
    "\n",
    "-- create target mapping\n",
    "CREATE OR REPLACE TABLE target_mapping AS\n",
    "SELECT species,\n",
    "       ROW_NUMBER() OVER (ORDER BY species) - 1 AS target\n",
    "FROM (SELECT DISTINCT species FROM prepared_data);\n",
    "\n",
    "-- create ml features\n",
    "CREATE OR REPLACE TABLE ml_data AS\n",
    "SELECT\n",
    "    t.target as y,\n",
    "    [p.beak_width, p.beak_length, p.wing_length, p.tail_length] as X\n",
    "FROM prepared_data p\n",
    "JOIN target_mapping t ON p.species = t.species;"
   ]
  },
  {
   "cell_type": "markdown",
   "metadata": {},
   "source": [
    "# SQL Sampling"
   ]
  },
  {
   "cell_type": "code",
   "execution_count": 8,
   "metadata": {
    "execution": {
     "iopub.execute_input": "2024-07-11T08:25:00.728041Z",
     "iopub.status.busy": "2024-07-11T08:25:00.727531Z",
     "iopub.status.idle": "2024-07-11T08:25:00.736819Z",
     "shell.execute_reply": "2024-07-11T08:25:00.736190Z",
     "shell.execute_reply.started": "2024-07-11T08:25:00.728007Z"
    }
   },
   "outputs": [
    {
     "data": {
      "text/html": [
       "<div>\n",
       "<style scoped>\n",
       "    .dataframe tbody tr th:only-of-type {\n",
       "        vertical-align: middle;\n",
       "    }\n",
       "\n",
       "    .dataframe tbody tr th {\n",
       "        vertical-align: top;\n",
       "    }\n",
       "\n",
       "    .dataframe thead th {\n",
       "        text-align: right;\n",
       "    }\n",
       "</style>\n",
       "<table border=\"1\" class=\"dataframe\">\n",
       "  <thead>\n",
       "    <tr style=\"text-align: right;\">\n",
       "      <th></th>\n",
       "      <th>Count</th>\n",
       "    </tr>\n",
       "  </thead>\n",
       "  <tbody>\n",
       "    <tr>\n",
       "      <th>0</th>\n",
       "      <td>50</td>\n",
       "    </tr>\n",
       "  </tbody>\n",
       "</table>\n",
       "</div>"
      ],
      "text/plain": [
       "   Count\n",
       "0     50"
      ]
     },
     "execution_count": 8,
     "metadata": {},
     "output_type": "execute_result"
    }
   ],
   "source": [
    "%%dql -co con\n",
    "ALTER TABLE ml_data ADD COLUMN IF NOT EXISTS random_value DOUBLE;\n",
    "UPDATE ml_data SET random_value = random();"
   ]
  },
  {
   "cell_type": "code",
   "execution_count": 9,
   "metadata": {
    "execution": {
     "iopub.execute_input": "2024-07-11T08:25:18.030551Z",
     "iopub.status.busy": "2024-07-11T08:25:18.029896Z",
     "iopub.status.idle": "2024-07-11T08:25:18.042890Z",
     "shell.execute_reply": "2024-07-11T08:25:18.042523Z",
     "shell.execute_reply.started": "2024-07-11T08:25:18.030511Z"
    }
   },
   "outputs": [
    {
     "data": {
      "text/html": [
       "<div>\n",
       "<style scoped>\n",
       "    .dataframe tbody tr th:only-of-type {\n",
       "        vertical-align: middle;\n",
       "    }\n",
       "\n",
       "    .dataframe tbody tr th {\n",
       "        vertical-align: top;\n",
       "    }\n",
       "\n",
       "    .dataframe thead th {\n",
       "        text-align: right;\n",
       "    }\n",
       "</style>\n",
       "<table border=\"1\" class=\"dataframe\">\n",
       "  <thead>\n",
       "    <tr style=\"text-align: right;\">\n",
       "      <th></th>\n",
       "      <th>Count</th>\n",
       "    </tr>\n",
       "  </thead>\n",
       "  <tbody>\n",
       "    <tr>\n",
       "      <th>0</th>\n",
       "      <td>34</td>\n",
       "    </tr>\n",
       "  </tbody>\n",
       "</table>\n",
       "</div>"
      ],
      "text/plain": [
       "   Count\n",
       "0     34"
      ]
     },
     "execution_count": 9,
     "metadata": {},
     "output_type": "execute_result"
    }
   ],
   "source": [
    "%%dql -co con\n",
    "CREATE OR REPLACE TABLE train_data AS\n",
    "WITH stratified_data AS (\n",
    "    SELECT *,\n",
    "           ROW_NUMBER() OVER (PARTITION BY y ORDER BY random_value) AS row_num,\n",
    "           COUNT(*) OVER (PARTITION BY y) AS class_count\n",
    "    FROM ml_data\n",
    ")\n",
    "SELECT\n",
    "    y, X\n",
    "FROM stratified_data\n",
    "WHERE row_num <= CEIL(0.65 * class_count);"
   ]
  },
  {
   "cell_type": "code",
   "execution_count": 10,
   "metadata": {
    "execution": {
     "iopub.execute_input": "2024-07-11T08:25:30.687209Z",
     "iopub.status.busy": "2024-07-11T08:25:30.686538Z",
     "iopub.status.idle": "2024-07-11T08:25:30.697484Z",
     "shell.execute_reply": "2024-07-11T08:25:30.696829Z",
     "shell.execute_reply.started": "2024-07-11T08:25:30.687173Z"
    }
   },
   "outputs": [
    {
     "data": {
      "text/html": [
       "<div>\n",
       "<style scoped>\n",
       "    .dataframe tbody tr th:only-of-type {\n",
       "        vertical-align: middle;\n",
       "    }\n",
       "\n",
       "    .dataframe tbody tr th {\n",
       "        vertical-align: top;\n",
       "    }\n",
       "\n",
       "    .dataframe thead th {\n",
       "        text-align: right;\n",
       "    }\n",
       "</style>\n",
       "<table border=\"1\" class=\"dataframe\">\n",
       "  <thead>\n",
       "    <tr style=\"text-align: right;\">\n",
       "      <th></th>\n",
       "      <th>Count</th>\n",
       "    </tr>\n",
       "  </thead>\n",
       "  <tbody>\n",
       "    <tr>\n",
       "      <th>0</th>\n",
       "      <td>16</td>\n",
       "    </tr>\n",
       "  </tbody>\n",
       "</table>\n",
       "</div>"
      ],
      "text/plain": [
       "   Count\n",
       "0     16"
      ]
     },
     "execution_count": 10,
     "metadata": {},
     "output_type": "execute_result"
    }
   ],
   "source": [
    "%%dql -co con\n",
    "CREATE OR REPLACE TABLE test_data AS\n",
    "SELECT\n",
    "    y, X\n",
    "FROM ml_data\n",
    "EXCEPT\n",
    "SELECT\n",
    "    y, X\n",
    "FROM train_data;"
   ]
  },
  {
   "cell_type": "code",
   "execution_count": 15,
   "metadata": {
    "execution": {
     "iopub.execute_input": "2024-07-11T08:26:42.326691Z",
     "iopub.status.busy": "2024-07-11T08:26:42.326096Z",
     "iopub.status.idle": "2024-07-11T08:26:42.331882Z",
     "shell.execute_reply": "2024-07-11T08:26:42.331398Z",
     "shell.execute_reply.started": "2024-07-11T08:26:42.326650Z"
    },
    "id": "2Gcdl1ciy9wp"
   },
   "outputs": [],
   "source": [
    "df = con.execute(\"\"\"SELECT * FROM train_data ORDER BY y\"\"\").fetchnumpy()\n",
    "X = df['X'].tolist()\n",
    "y = df['y'].tolist()"
   ]
  },
  {
   "cell_type": "code",
   "execution_count": 16,
   "metadata": {
    "colab": {
     "base_uri": "https://localhost:8080/"
    },
    "execution": {
     "iopub.execute_input": "2024-07-11T08:26:48.815720Z",
     "iopub.status.busy": "2024-07-11T08:26:48.814974Z",
     "iopub.status.idle": "2024-07-11T08:27:18.185303Z",
     "shell.execute_reply": "2024-07-11T08:27:18.184557Z",
     "shell.execute_reply.started": "2024-07-11T08:26:48.815686Z"
    },
    "id": "aRrdIPIny9wp",
    "outputId": "204ec091-eca3-49da-cf9a-b02dfb5a2a61",
    "scrolled": true
   },
   "outputs": [
    {
     "name": "stderr",
     "output_type": "stream",
     "text": [
      "/var/folders/r7/h8c47kyx6z3d9f_0gwz30jmw0000gq/T/ipykernel_9039/1005867466.py:12: DeprecationWarning: numpy.core is deprecated and has been renamed to numpy._core. The numpy._core namespace contains private NumPy internals and its use is discouraged, as NumPy internals can change without warning in any release. In practice, most real-world usage of numpy.core is to access functionality in the public NumPy API. If that is the case, use the public NumPy API. If not, you are using NumPy internals. If you would still like to access an internal attribute, use numpy._core.multiarray.\n",
      "  con.create_function(\"predict_duck\", predict_duck, ['DOUBLE[]'], 'INTEGER')\n"
     ]
    },
    {
     "data": {
      "text/plain": [
       "<duckdb.duckdb.DuckDBPyConnection at 0x10fdcc770>"
      ]
     },
     "execution_count": 16,
     "metadata": {},
     "output_type": "execute_result"
    }
   ],
   "source": [
    "# sklearn training\n",
    "from sklearn import tree\n",
    "classifier=tree.DecisionTreeClassifier()\n",
    "classifier.fit(X,y)\n",
    "\n",
    "# Register sklearn model in Python UDF\n",
    "def predict_duck(X):\n",
    "    pred = classifier.predict([X])[0]\n",
    "    return int(pred)\n",
    "\n",
    "con.create_function(\"predict_duck\", predict_duck, ['DOUBLE[]'], 'INTEGER')"
   ]
  },
  {
   "cell_type": "code",
   "execution_count": 17,
   "metadata": {
    "colab": {
     "base_uri": "https://localhost:8080/",
     "height": 551
    },
    "execution": {
     "iopub.execute_input": "2024-07-11T08:27:18.187030Z",
     "iopub.status.busy": "2024-07-11T08:27:18.186766Z",
     "iopub.status.idle": "2024-07-11T08:27:18.196127Z",
     "shell.execute_reply": "2024-07-11T08:27:18.195692Z",
     "shell.execute_reply.started": "2024-07-11T08:27:18.187010Z"
    },
    "id": "H1vAu9kJ6L5m",
    "outputId": "178aaa67-68b3-4a27-e62b-1ab200675dc1"
   },
   "outputs": [
    {
     "data": {
      "text/html": [
       "<div>\n",
       "<style scoped>\n",
       "    .dataframe tbody tr th:only-of-type {\n",
       "        vertical-align: middle;\n",
       "    }\n",
       "\n",
       "    .dataframe tbody tr th {\n",
       "        vertical-align: top;\n",
       "    }\n",
       "\n",
       "    .dataframe thead th {\n",
       "        text-align: right;\n",
       "    }\n",
       "</style>\n",
       "<table border=\"1\" class=\"dataframe\">\n",
       "  <thead>\n",
       "    <tr style=\"text-align: right;\">\n",
       "      <th></th>\n",
       "      <th>y</th>\n",
       "      <th>X</th>\n",
       "    </tr>\n",
       "  </thead>\n",
       "  <tbody>\n",
       "    <tr>\n",
       "      <th>0</th>\n",
       "      <td>0</td>\n",
       "      <td>[22.2, 53.0, 403.0, 140.0]</td>\n",
       "    </tr>\n",
       "    <tr>\n",
       "      <th>1</th>\n",
       "      <td>0</td>\n",
       "      <td>[20.5, 48.0, 350.0, 112.0]</td>\n",
       "    </tr>\n",
       "    <tr>\n",
       "      <th>2</th>\n",
       "      <td>1</td>\n",
       "      <td>[31.4, 61.4, 264.0, 97.0]</td>\n",
       "    </tr>\n",
       "    <tr>\n",
       "      <th>3</th>\n",
       "      <td>2</td>\n",
       "      <td>[11.0, 25.9, 187.0, 80.0]</td>\n",
       "    </tr>\n",
       "    <tr>\n",
       "      <th>4</th>\n",
       "      <td>2</td>\n",
       "      <td>[13.2, 29.7, 201.0, 88.0]</td>\n",
       "    </tr>\n",
       "    <tr>\n",
       "      <th>5</th>\n",
       "      <td>3</td>\n",
       "      <td>[17.2, --, 253.0, 76.0]</td>\n",
       "    </tr>\n",
       "    <tr>\n",
       "      <th>6</th>\n",
       "      <td>3</td>\n",
       "      <td>[19.0, 34.6, 269.0, 77.0]</td>\n",
       "    </tr>\n",
       "    <tr>\n",
       "      <th>7</th>\n",
       "      <td>4</td>\n",
       "      <td>[14.4, 44.0, 198.0, 70.0]</td>\n",
       "    </tr>\n",
       "    <tr>\n",
       "      <th>8</th>\n",
       "      <td>4</td>\n",
       "      <td>[14.6, 46.0, 213.0, 72.0]</td>\n",
       "    </tr>\n",
       "    <tr>\n",
       "      <th>9</th>\n",
       "      <td>5</td>\n",
       "      <td>[23.9, 71.1, 323.0, 190.0]</td>\n",
       "    </tr>\n",
       "    <tr>\n",
       "      <th>10</th>\n",
       "      <td>5</td>\n",
       "      <td>[26.7, 70.4, 397.0, 182.0]</td>\n",
       "    </tr>\n",
       "    <tr>\n",
       "      <th>11</th>\n",
       "      <td>5</td>\n",
       "      <td>[25.7, 74.0, 414.0, 191.0]</td>\n",
       "    </tr>\n",
       "    <tr>\n",
       "      <th>12</th>\n",
       "      <td>6</td>\n",
       "      <td>[14.2, 63.7, 184.0, 60.0]</td>\n",
       "    </tr>\n",
       "    <tr>\n",
       "      <th>13</th>\n",
       "      <td>6</td>\n",
       "      <td>[15.7, 68.1, 170.0, 61.0]</td>\n",
       "    </tr>\n",
       "    <tr>\n",
       "      <th>14</th>\n",
       "      <td>7</td>\n",
       "      <td>[6.8, 28.1, 170.0, 61.0]</td>\n",
       "    </tr>\n",
       "    <tr>\n",
       "      <th>15</th>\n",
       "      <td>7</td>\n",
       "      <td>[8.7, 37.5, 193.0, 75.0]</td>\n",
       "    </tr>\n",
       "  </tbody>\n",
       "</table>\n",
       "</div>"
      ],
      "text/plain": [
       "    y                           X\n",
       "0   0  [22.2, 53.0, 403.0, 140.0]\n",
       "1   0  [20.5, 48.0, 350.0, 112.0]\n",
       "2   1   [31.4, 61.4, 264.0, 97.0]\n",
       "3   2   [11.0, 25.9, 187.0, 80.0]\n",
       "4   2   [13.2, 29.7, 201.0, 88.0]\n",
       "5   3     [17.2, --, 253.0, 76.0]\n",
       "6   3   [19.0, 34.6, 269.0, 77.0]\n",
       "7   4   [14.4, 44.0, 198.0, 70.0]\n",
       "8   4   [14.6, 46.0, 213.0, 72.0]\n",
       "9   5  [23.9, 71.1, 323.0, 190.0]\n",
       "10  5  [26.7, 70.4, 397.0, 182.0]\n",
       "11  5  [25.7, 74.0, 414.0, 191.0]\n",
       "12  6   [14.2, 63.7, 184.0, 60.0]\n",
       "13  6   [15.7, 68.1, 170.0, 61.0]\n",
       "14  7    [6.8, 28.1, 170.0, 61.0]\n",
       "15  7    [8.7, 37.5, 193.0, 75.0]"
      ]
     },
     "execution_count": 17,
     "metadata": {},
     "output_type": "execute_result"
    }
   ],
   "source": [
    "%%dql -co con\n",
    "FROM test_data ORDER BY y"
   ]
  },
  {
   "cell_type": "code",
   "execution_count": 18,
   "metadata": {
    "colab": {
     "base_uri": "https://localhost:8080/",
     "height": 81
    },
    "execution": {
     "iopub.execute_input": "2024-07-11T08:27:27.728272Z",
     "iopub.status.busy": "2024-07-11T08:27:27.727365Z",
     "iopub.status.idle": "2024-07-11T08:27:27.738823Z",
     "shell.execute_reply": "2024-07-11T08:27:27.738176Z",
     "shell.execute_reply.started": "2024-07-11T08:27:27.728234Z"
    },
    "id": "EeT5-e1qy9wp",
    "outputId": "e0ae4fa8-b8c7-4d0e-b1ea-d854ed9e0339"
   },
   "outputs": [
    {
     "data": {
      "text/html": [
       "<div>\n",
       "<style scoped>\n",
       "    .dataframe tbody tr th:only-of-type {\n",
       "        vertical-align: middle;\n",
       "    }\n",
       "\n",
       "    .dataframe tbody tr th {\n",
       "        vertical-align: top;\n",
       "    }\n",
       "\n",
       "    .dataframe thead th {\n",
       "        text-align: right;\n",
       "    }\n",
       "</style>\n",
       "<table border=\"1\" class=\"dataframe\">\n",
       "  <thead>\n",
       "    <tr style=\"text-align: right;\">\n",
       "      <th></th>\n",
       "      <th>Count</th>\n",
       "    </tr>\n",
       "  </thead>\n",
       "  <tbody>\n",
       "    <tr>\n",
       "      <th>0</th>\n",
       "      <td>16</td>\n",
       "    </tr>\n",
       "  </tbody>\n",
       "</table>\n",
       "</div>"
      ],
      "text/plain": [
       "   Count\n",
       "0     16"
      ]
     },
     "execution_count": 18,
     "metadata": {},
     "output_type": "execute_result"
    }
   ],
   "source": [
    "%%dql -co con\n",
    "-- make predictions on test data\n",
    "CREATE OR REPLACE TABLE predictions AS SELECT y, predict_duck(X) as y_pred FROM test_data"
   ]
  },
  {
   "cell_type": "code",
   "execution_count": 19,
   "metadata": {
    "colab": {
     "base_uri": "https://localhost:8080/",
     "height": 81
    },
    "execution": {
     "iopub.execute_input": "2024-07-11T08:27:33.852175Z",
     "iopub.status.busy": "2024-07-11T08:27:33.851595Z",
     "iopub.status.idle": "2024-07-11T08:27:33.861526Z",
     "shell.execute_reply": "2024-07-11T08:27:33.860969Z",
     "shell.execute_reply.started": "2024-07-11T08:27:33.852135Z"
    },
    "id": "x6Il4Nn-y9wp",
    "outputId": "63d038d8-f91c-4191-bcd0-5c4095210d6c"
   },
   "outputs": [
    {
     "data": {
      "text/html": [
       "<div>\n",
       "<style scoped>\n",
       "    .dataframe tbody tr th:only-of-type {\n",
       "        vertical-align: middle;\n",
       "    }\n",
       "\n",
       "    .dataframe tbody tr th {\n",
       "        vertical-align: top;\n",
       "    }\n",
       "\n",
       "    .dataframe thead th {\n",
       "        text-align: right;\n",
       "    }\n",
       "</style>\n",
       "<table border=\"1\" class=\"dataframe\">\n",
       "  <thead>\n",
       "    <tr style=\"text-align: right;\">\n",
       "      <th></th>\n",
       "      <th>total_predictions</th>\n",
       "      <th>correct_predictions</th>\n",
       "      <th>accuracy</th>\n",
       "    </tr>\n",
       "  </thead>\n",
       "  <tbody>\n",
       "    <tr>\n",
       "      <th>0</th>\n",
       "      <td>16</td>\n",
       "      <td>14.0</td>\n",
       "      <td>0.875</td>\n",
       "    </tr>\n",
       "  </tbody>\n",
       "</table>\n",
       "</div>"
      ],
      "text/plain": [
       "   total_predictions  correct_predictions  accuracy\n",
       "0                 16                 14.0     0.875"
      ]
     },
     "execution_count": 19,
     "metadata": {},
     "output_type": "execute_result"
    }
   ],
   "source": [
    "%%dql -co con\n",
    "-- evaluate model on test sample\n",
    "SELECT\n",
    "    COUNT(*) AS total_predictions,\n",
    "    SUM(CASE WHEN y = y_pred THEN 1 ELSE 0 END) AS correct_predictions,\n",
    "    CAST(SUM(CASE WHEN y = y_pred THEN 1 ELSE 0 END) AS FLOAT) / COUNT(*) AS accuracy\n",
    "FROM predictions;"
   ]
  },
  {
   "cell_type": "code",
   "execution_count": null,
   "metadata": {},
   "outputs": [],
   "source": []
  }
 ],
 "metadata": {
  "colab": {
   "provenance": []
  },
  "kernelspec": {
   "display_name": "Python 3 (ipykernel)",
   "language": "python",
   "name": "python3"
  },
  "language_info": {
   "codemirror_mode": {
    "name": "ipython",
    "version": 3
   },
   "file_extension": ".py",
   "mimetype": "text/x-python",
   "name": "python",
   "nbconvert_exporter": "python",
   "pygments_lexer": "ipython3",
   "version": "3.12.4"
  }
 },
 "nbformat": 4,
 "nbformat_minor": 4
}
